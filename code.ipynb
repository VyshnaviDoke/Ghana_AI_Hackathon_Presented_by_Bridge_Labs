{
 "cells": [
  {
   "cell_type": "code",
   "execution_count": 16,
   "id": "1eb6c6b4",
   "metadata": {},
   "outputs": [],
   "source": [
    "import os\n",
    "import pandas as pd"
   ]
  },
  {
   "cell_type": "code",
   "execution_count": null,
   "id": "fc023769",
   "metadata": {},
   "outputs": [],
   "source": [
    "data = []\n",
    "\n",
    "# Walk through healthy images\n",
    "for root, dirs, files in os.walk('All_healthy'):\n",
    "    for file in files:\n",
    "        if file.endswith(('.jpg', '.jpeg', '.png')):\n",
    "            filepath = os.path.join(root, file)\n",
    "            \n",
    "            data.append((filepath, 0))  # Label 0 for healthy\n",
    "\n",
    "# Walk through diseased images\n",
    "for root, dirs, files in os.walk('diseased'):\n",
    "    for file in files:\n",
    "        if file.endswith(('.jpg', '.jpeg', '.png')):\n",
    "            filepath = os.path.join(root, file)\n",
    "            data.append((filepath, 1))  # Label 1 for diseased\n",
    "\n",
    "# Create DataFrame\n",
    "df = pd.DataFrame(data, columns=['filename', 'label'])\n",
    "df = df.sample(frac=1).reset_index(drop=True)  # Shuffle the data\n",
    "df.to_csv('plant_health_labels.csv', index=False)"
   ]
  },
  {
   "cell_type": "code",
   "execution_count": 22,
   "id": "6a0e080d",
   "metadata": {},
   "outputs": [
    {
     "name": "stdout",
     "output_type": "stream",
     "text": [
      "[('All_healthy\\\\Cashew_healthy\\\\healthy1000_.jpg', 'All_healthy_Cashew_healthy'), ('All_healthy\\\\Cashew_healthy\\\\healthy1001_.jpg', 'All_healthy_Cashew_healthy'), ('All_healthy\\\\Cashew_healthy\\\\healthy1002_.jpg', 'All_healthy_Cashew_healthy'), ('All_healthy\\\\Cashew_healthy\\\\healthy1003_.jpg', 'All_healthy_Cashew_healthy'), ('All_healthy\\\\Cashew_healthy\\\\healthy1004_.jpg', 'All_healthy_Cashew_healthy')]\n"
     ]
    }
   ],
   "source": [
    "import os\n",
    "\n",
    "data = []\n",
    "\n",
    "root_folders = ['All_healthy', 'diseased']\n",
    "\n",
    "for root in root_folders:\n",
    "    for subfolder in os.listdir(root):\n",
    "        folder_path = os.path.join(root, subfolder)\n",
    "        if not os.path.isdir(folder_path):\n",
    "            continue\n",
    "        label = f\"{root}_{subfolder}\"\n",
    "        for file in os.listdir(folder_path):\n",
    "            if file.lower().endswith(('.jpg', '.jpeg', '.png')):\n",
    "                filepath = os.path.join(folder_path, file)\n",
    "                data.append((filepath, label))\n",
    "\n",
    "# View first few\n",
    "print(data[:5])\n"
   ]
  },
  {
   "cell_type": "code",
   "execution_count": 23,
   "id": "71a04690",
   "metadata": {},
   "outputs": [
    {
     "data": {
      "text/html": [
       "<div>\n",
       "<style scoped>\n",
       "    .dataframe tbody tr th:only-of-type {\n",
       "        vertical-align: middle;\n",
       "    }\n",
       "\n",
       "    .dataframe tbody tr th {\n",
       "        vertical-align: top;\n",
       "    }\n",
       "\n",
       "    .dataframe thead th {\n",
       "        text-align: right;\n",
       "    }\n",
       "</style>\n",
       "<table border=\"1\" class=\"dataframe\">\n",
       "  <thead>\n",
       "    <tr style=\"text-align: right;\">\n",
       "      <th></th>\n",
       "      <th>filename</th>\n",
       "      <th>label</th>\n",
       "    </tr>\n",
       "  </thead>\n",
       "  <tbody>\n",
       "    <tr>\n",
       "      <th>0</th>\n",
       "      <td>All_healthy\\Cashew_healthy\\healthy1000_.jpg</td>\n",
       "      <td>All_healthy_Cashew_healthy</td>\n",
       "    </tr>\n",
       "    <tr>\n",
       "      <th>1</th>\n",
       "      <td>All_healthy\\Cashew_healthy\\healthy1001_.jpg</td>\n",
       "      <td>All_healthy_Cashew_healthy</td>\n",
       "    </tr>\n",
       "    <tr>\n",
       "      <th>2</th>\n",
       "      <td>All_healthy\\Cashew_healthy\\healthy1002_.jpg</td>\n",
       "      <td>All_healthy_Cashew_healthy</td>\n",
       "    </tr>\n",
       "    <tr>\n",
       "      <th>3</th>\n",
       "      <td>All_healthy\\Cashew_healthy\\healthy1003_.jpg</td>\n",
       "      <td>All_healthy_Cashew_healthy</td>\n",
       "    </tr>\n",
       "    <tr>\n",
       "      <th>4</th>\n",
       "      <td>All_healthy\\Cashew_healthy\\healthy1004_.jpg</td>\n",
       "      <td>All_healthy_Cashew_healthy</td>\n",
       "    </tr>\n",
       "    <tr>\n",
       "      <th>...</th>\n",
       "      <td>...</td>\n",
       "      <td>...</td>\n",
       "    </tr>\n",
       "    <tr>\n",
       "      <th>25215</th>\n",
       "      <td>diseased\\Tomato_verticulium wilt\\verticulium w...</td>\n",
       "      <td>diseased_Tomato_verticulium wilt</td>\n",
       "    </tr>\n",
       "    <tr>\n",
       "      <th>25216</th>\n",
       "      <td>diseased\\Tomato_verticulium wilt\\verticulium w...</td>\n",
       "      <td>diseased_Tomato_verticulium wilt</td>\n",
       "    </tr>\n",
       "    <tr>\n",
       "      <th>25217</th>\n",
       "      <td>diseased\\Tomato_verticulium wilt\\verticulium w...</td>\n",
       "      <td>diseased_Tomato_verticulium wilt</td>\n",
       "    </tr>\n",
       "    <tr>\n",
       "      <th>25218</th>\n",
       "      <td>diseased\\Tomato_verticulium wilt\\verticulium w...</td>\n",
       "      <td>diseased_Tomato_verticulium wilt</td>\n",
       "    </tr>\n",
       "    <tr>\n",
       "      <th>25219</th>\n",
       "      <td>diseased\\Tomato_verticulium wilt\\verticulium w...</td>\n",
       "      <td>diseased_Tomato_verticulium wilt</td>\n",
       "    </tr>\n",
       "  </tbody>\n",
       "</table>\n",
       "<p>25220 rows × 2 columns</p>\n",
       "</div>"
      ],
      "text/plain": [
       "                                                filename  \\\n",
       "0            All_healthy\\Cashew_healthy\\healthy1000_.jpg   \n",
       "1            All_healthy\\Cashew_healthy\\healthy1001_.jpg   \n",
       "2            All_healthy\\Cashew_healthy\\healthy1002_.jpg   \n",
       "3            All_healthy\\Cashew_healthy\\healthy1003_.jpg   \n",
       "4            All_healthy\\Cashew_healthy\\healthy1004_.jpg   \n",
       "...                                                  ...   \n",
       "25215  diseased\\Tomato_verticulium wilt\\verticulium w...   \n",
       "25216  diseased\\Tomato_verticulium wilt\\verticulium w...   \n",
       "25217  diseased\\Tomato_verticulium wilt\\verticulium w...   \n",
       "25218  diseased\\Tomato_verticulium wilt\\verticulium w...   \n",
       "25219  diseased\\Tomato_verticulium wilt\\verticulium w...   \n",
       "\n",
       "                                  label  \n",
       "0            All_healthy_Cashew_healthy  \n",
       "1            All_healthy_Cashew_healthy  \n",
       "2            All_healthy_Cashew_healthy  \n",
       "3            All_healthy_Cashew_healthy  \n",
       "4            All_healthy_Cashew_healthy  \n",
       "...                                 ...  \n",
       "25215  diseased_Tomato_verticulium wilt  \n",
       "25216  diseased_Tomato_verticulium wilt  \n",
       "25217  diseased_Tomato_verticulium wilt  \n",
       "25218  diseased_Tomato_verticulium wilt  \n",
       "25219  diseased_Tomato_verticulium wilt  \n",
       "\n",
       "[25220 rows x 2 columns]"
      ]
     },
     "execution_count": 23,
     "metadata": {},
     "output_type": "execute_result"
    }
   ],
   "source": [
    "import pandas as pd\n",
    "\n",
    "data = pd.DataFrame(data, columns=[\"filename\", \"label\"])\n",
    "data"
   ]
  },
  {
   "cell_type": "code",
   "execution_count": 19,
   "id": "8134d42d",
   "metadata": {},
   "outputs": [
    {
     "name": "stdout",
     "output_type": "stream",
     "text": [
      "Requirement already satisfied: tensorflow in c:\\users\\public\\one\\lib\\site-packages (2.19.0)\n",
      "Requirement already satisfied: absl-py>=1.0.0 in c:\\users\\public\\one\\lib\\site-packages (from tensorflow) (2.3.0)\n",
      "Requirement already satisfied: astunparse>=1.6.0 in c:\\users\\public\\one\\lib\\site-packages (from tensorflow) (1.6.3)\n",
      "Requirement already satisfied: flatbuffers>=24.3.25 in c:\\users\\public\\one\\lib\\site-packages (from tensorflow) (25.2.10)\n",
      "Requirement already satisfied: gast!=0.5.0,!=0.5.1,!=0.5.2,>=0.2.1 in c:\\users\\public\\one\\lib\\site-packages (from tensorflow) (0.6.0)\n",
      "Requirement already satisfied: google-pasta>=0.1.1 in c:\\users\\public\\one\\lib\\site-packages (from tensorflow) (0.2.0)\n",
      "Requirement already satisfied: libclang>=13.0.0 in c:\\users\\public\\one\\lib\\site-packages (from tensorflow) (18.1.1)\n",
      "Requirement already satisfied: opt-einsum>=2.3.2 in c:\\users\\public\\one\\lib\\site-packages (from tensorflow) (3.4.0)\n",
      "Requirement already satisfied: packaging in c:\\users\\public\\one\\lib\\site-packages (from tensorflow) (24.1)\n",
      "Requirement already satisfied: protobuf!=4.21.0,!=4.21.1,!=4.21.2,!=4.21.3,!=4.21.4,!=4.21.5,<6.0.0dev,>=3.20.3 in c:\\users\\public\\one\\lib\\site-packages (from tensorflow) (4.25.3)\n",
      "Requirement already satisfied: requests<3,>=2.21.0 in c:\\users\\public\\one\\lib\\site-packages (from tensorflow) (2.32.3)\n",
      "Requirement already satisfied: setuptools in c:\\users\\public\\one\\lib\\site-packages (from tensorflow) (75.1.0)\n",
      "Requirement already satisfied: six>=1.12.0 in c:\\users\\public\\one\\lib\\site-packages (from tensorflow) (1.16.0)\n",
      "Requirement already satisfied: termcolor>=1.1.0 in c:\\users\\public\\one\\lib\\site-packages (from tensorflow) (3.1.0)\n",
      "Requirement already satisfied: typing-extensions>=3.6.6 in c:\\users\\public\\one\\lib\\site-packages (from tensorflow) (4.11.0)\n",
      "Requirement already satisfied: wrapt>=1.11.0 in c:\\users\\public\\one\\lib\\site-packages (from tensorflow) (1.14.1)\n",
      "Requirement already satisfied: grpcio<2.0,>=1.24.3 in c:\\users\\public\\one\\lib\\site-packages (from tensorflow) (1.73.1)\n",
      "Requirement already satisfied: tensorboard~=2.19.0 in c:\\users\\public\\one\\lib\\site-packages (from tensorflow) (2.19.0)\n",
      "Requirement already satisfied: keras>=3.5.0 in c:\\users\\public\\one\\lib\\site-packages (from tensorflow) (3.10.0)\n",
      "Requirement already satisfied: numpy<2.2.0,>=1.26.0 in c:\\users\\public\\one\\lib\\site-packages (from tensorflow) (1.26.4)\n",
      "Requirement already satisfied: h5py>=3.11.0 in c:\\users\\public\\one\\lib\\site-packages (from tensorflow) (3.11.0)\n",
      "Requirement already satisfied: ml-dtypes<1.0.0,>=0.5.1 in c:\\users\\public\\one\\lib\\site-packages (from tensorflow) (0.5.1)\n",
      "Requirement already satisfied: wheel<1.0,>=0.23.0 in c:\\users\\public\\one\\lib\\site-packages (from astunparse>=1.6.0->tensorflow) (0.44.0)\n",
      "Requirement already satisfied: rich in c:\\users\\public\\one\\lib\\site-packages (from keras>=3.5.0->tensorflow) (13.7.1)\n",
      "Requirement already satisfied: namex in c:\\users\\public\\one\\lib\\site-packages (from keras>=3.5.0->tensorflow) (0.1.0)\n",
      "Requirement already satisfied: optree in c:\\users\\public\\one\\lib\\site-packages (from keras>=3.5.0->tensorflow) (0.16.0)\n",
      "Requirement already satisfied: charset-normalizer<4,>=2 in c:\\users\\public\\one\\lib\\site-packages (from requests<3,>=2.21.0->tensorflow) (3.3.2)\n",
      "Requirement already satisfied: idna<4,>=2.5 in c:\\users\\public\\one\\lib\\site-packages (from requests<3,>=2.21.0->tensorflow) (3.7)\n",
      "Requirement already satisfied: urllib3<3,>=1.21.1 in c:\\users\\public\\one\\lib\\site-packages (from requests<3,>=2.21.0->tensorflow) (2.2.3)\n",
      "Requirement already satisfied: certifi>=2017.4.17 in c:\\users\\public\\one\\lib\\site-packages (from requests<3,>=2.21.0->tensorflow) (2024.8.30)\n",
      "Requirement already satisfied: markdown>=2.6.8 in c:\\users\\public\\one\\lib\\site-packages (from tensorboard~=2.19.0->tensorflow) (3.4.1)\n",
      "Requirement already satisfied: tensorboard-data-server<0.8.0,>=0.7.0 in c:\\users\\public\\one\\lib\\site-packages (from tensorboard~=2.19.0->tensorflow) (0.7.2)\n",
      "Requirement already satisfied: werkzeug>=1.0.1 in c:\\users\\public\\one\\lib\\site-packages (from tensorboard~=2.19.0->tensorflow) (3.0.3)\n",
      "Requirement already satisfied: MarkupSafe>=2.1.1 in c:\\users\\public\\one\\lib\\site-packages (from werkzeug>=1.0.1->tensorboard~=2.19.0->tensorflow) (2.1.3)\n",
      "Requirement already satisfied: markdown-it-py>=2.2.0 in c:\\users\\public\\one\\lib\\site-packages (from rich->keras>=3.5.0->tensorflow) (2.2.0)\n",
      "Requirement already satisfied: pygments<3.0.0,>=2.13.0 in c:\\users\\public\\one\\lib\\site-packages (from rich->keras>=3.5.0->tensorflow) (2.15.1)\n",
      "Requirement already satisfied: mdurl~=0.1 in c:\\users\\public\\one\\lib\\site-packages (from markdown-it-py>=2.2.0->rich->keras>=3.5.0->tensorflow) (0.1.0)\n"
     ]
    }
   ],
   "source": [
    "!pip install tensorflow"
   ]
  },
  {
   "cell_type": "code",
   "execution_count": 49,
   "id": "7beacdf4",
   "metadata": {},
   "outputs": [
    {
     "name": "stdout",
     "output_type": "stream",
     "text": [
      "[BAD] All_healthy/Maize_healthy/healthy189_.jpg -- broken data stream when reading image file\n",
      "[BAD] All_healthy/Maize_healthy/healthy87_.jpg -- broken data stream when reading image file\n",
      "[BAD] All_healthy/Tomato_healthy/healthy442_.jpg -- broken data stream when reading image file\n",
      "[BAD] All_healthy/Tomato_healthy/healthy76_.jpg -- broken data stream when reading image file\n",
      "[BAD] diseased/Maize_leaf beetle/leaf beetle206_.jpg -- broken data stream when reading image file\n",
      "[BAD] diseased/Maize_leaf beetle/leaf beetle457_.jpg -- broken data stream when reading image file\n",
      "[BAD] diseased/Maize_leaf beetle/leaf beetle572_.jpg -- broken data stream when reading image file\n",
      "[BAD] diseased/Maize_leaf beetle/leaf beetle68_.jpg -- broken data stream when reading image file\n",
      "[BAD] diseased/Maize_leaf beetle/leaf beetle797_.jpg -- broken data stream when reading image file\n",
      "[BAD] diseased/Maize_leaf blight/leaf blight379_.jpg -- broken data stream when reading image file\n",
      "[BAD] diseased/Maize_leaf blight/leaf blight452_.jpg -- broken data stream when reading image file\n",
      "[BAD] diseased/Maize_leaf blight/leaf blight522_.jpg -- broken data stream when reading image file\n",
      "[BAD] diseased/Maize_leaf blight/leaf blight58_.jpg -- broken data stream when reading image file\n",
      "[BAD] diseased/Maize_leaf blight/leaf blight666_.jpg -- broken data stream when reading image file\n",
      "[BAD] diseased/Maize_leaf blight/leaf blight745_.jpg -- broken data stream when reading image file\n",
      "[BAD] diseased/Maize_leaf blight/leaf blight82_.jpg -- broken data stream when reading image file\n",
      "[BAD] diseased/Maize_leaf blight/leaf blight912_.jpg -- broken data stream when reading image file\n",
      "[BAD] diseased/Maize_leaf spot/leaf spot186_.jpg -- broken data stream when reading image file\n",
      "[BAD] diseased/Maize_leaf spot/leaf spot271_.jpg -- broken data stream when reading image file\n",
      "[BAD] diseased/Maize_leaf spot/leaf spot424_.jpg -- broken data stream when reading image file\n",
      "[BAD] diseased/Maize_leaf spot/leaf spot496_.jpg -- broken data stream when reading image file\n",
      "[BAD] diseased/Maize_leaf spot/leaf spot578_.jpg -- broken data stream when reading image file\n",
      "[BAD] diseased/Maize_leaf spot/leaf spot649_.jpg -- broken data stream when reading image file\n",
      "[BAD] diseased/Maize_leaf spot/leaf spot723_.jpg -- broken data stream when reading image file\n",
      "[BAD] diseased/Maize_leaf spot/leaf spot798_.jpg -- broken data stream when reading image file\n",
      "[BAD] diseased/Maize_leaf spot/leaf spot881_.jpg -- broken data stream when reading image file\n",
      "[BAD] diseased/Maize_leaf spot/leaf spot957_.jpg -- broken data stream when reading image file\n",
      "[BAD] diseased/Maize_streak virus/streak virus118_.jpg -- broken data stream when reading image file\n",
      "[BAD] diseased/Maize_streak virus/streak virus421_.jpg -- broken data stream when reading image file\n",
      "[BAD] diseased/Maize_streak virus/streak virus485_.jpg -- broken data stream when reading image file\n",
      "[BAD] diseased/Maize_streak virus/streak virus554_.jpg -- broken data stream when reading image file\n",
      "[BAD] diseased/Maize_streak virus/streak virus626_.jpg -- broken data stream when reading image file\n",
      "[BAD] diseased/Maize_streak virus/streak virus773_.jpg -- broken data stream when reading image file\n",
      "[BAD] diseased/Maize_streak virus/streak virus997_.jpg -- broken data stream when reading image file\n",
      "[BAD] diseased/Tomato_leaf blight/leaf blight386_.jpg -- broken data stream when reading image file\n",
      "[BAD] diseased/Tomato_leaf blight/leaf blight470_.jpg -- broken data stream when reading image file\n",
      "[BAD] diseased/Tomato_leaf blight/leaf blight644_.jpg -- broken data stream when reading image file\n",
      "[BAD] diseased/Tomato_leaf blight/leaf blight813_.jpg -- broken data stream when reading image file\n",
      "[BAD] diseased/Tomato_leaf blight/leaf blight8_.jpg -- broken data stream when reading image file\n",
      "[BAD] diseased/Tomato_leaf blight/leaf blight997_.jpg -- broken data stream when reading image file\n",
      "[BAD] diseased/Tomato_leaf curl/leaf curl270_.jpg -- broken data stream when reading image file\n",
      "[BAD] diseased/Tomato_leaf curl/leaf curl353_.jpg -- broken data stream when reading image file\n",
      "[BAD] diseased/Tomato_leaf curl/leaf curl439_.jpg -- broken data stream when reading image file\n",
      "[BAD] diseased/Tomato_verticulium wilt/verticulium wilt403_.jpg -- broken data stream when reading image file\n"
     ]
    }
   ],
   "source": [
    "from PIL import Image, UnidentifiedImageError\n",
    "import os\n",
    "import shutil\n",
    "import pandas as pd\n",
    "\n",
    "bad_image_dir = 'bad_images'\n",
    "os.makedirs(bad_image_dir, exist_ok=True)\n",
    "\n",
    "def is_fully_valid_image(path):\n",
    "    try:\n",
    "        with Image.open(path) as img:\n",
    "            img = img.convert(\"RGB\")  # Ensure 3-channel\n",
    "            img.resize((224, 224))    # Test actual resizing\n",
    "        return True\n",
    "    except (UnidentifiedImageError, OSError, ValueError) as e:\n",
    "        print(f\"[BAD] {path} -- {e}\")\n",
    "        return False\n",
    "\n",
    "valid_paths = []\n",
    "for path in data['filename']:\n",
    "    if is_fully_valid_image(path):\n",
    "        valid_paths.append(path)\n",
    "    else:\n",
    "        try:\n",
    "            shutil.move(path, os.path.join(bad_image_dir, os.path.basename(path)))\n",
    "        except Exception as e:\n",
    "            print(f\"Failed to move {path}: {e}\")\n",
    "\n",
    "# Final clean DataFrame\n",
    "data = data[data['filename'].isin(valid_paths)].reset_index(drop=True)\n",
    "\n",
    "\n"
   ]
  },
  {
   "cell_type": "code",
   "execution_count": 50,
   "id": "e95d28ca",
   "metadata": {},
   "outputs": [
    {
     "data": {
      "text/html": [
       "<div>\n",
       "<style scoped>\n",
       "    .dataframe tbody tr th:only-of-type {\n",
       "        vertical-align: middle;\n",
       "    }\n",
       "\n",
       "    .dataframe tbody tr th {\n",
       "        vertical-align: top;\n",
       "    }\n",
       "\n",
       "    .dataframe thead th {\n",
       "        text-align: right;\n",
       "    }\n",
       "</style>\n",
       "<table border=\"1\" class=\"dataframe\">\n",
       "  <thead>\n",
       "    <tr style=\"text-align: right;\">\n",
       "      <th></th>\n",
       "      <th>filename</th>\n",
       "      <th>label</th>\n",
       "    </tr>\n",
       "  </thead>\n",
       "  <tbody>\n",
       "    <tr>\n",
       "      <th>0</th>\n",
       "      <td>All_healthy/Cashew_healthy/healthy1000_.jpg</td>\n",
       "      <td>All_healthy_Cashew_healthy</td>\n",
       "    </tr>\n",
       "    <tr>\n",
       "      <th>1</th>\n",
       "      <td>All_healthy/Cashew_healthy/healthy1001_.jpg</td>\n",
       "      <td>All_healthy_Cashew_healthy</td>\n",
       "    </tr>\n",
       "    <tr>\n",
       "      <th>2</th>\n",
       "      <td>All_healthy/Cashew_healthy/healthy1002_.jpg</td>\n",
       "      <td>All_healthy_Cashew_healthy</td>\n",
       "    </tr>\n",
       "    <tr>\n",
       "      <th>3</th>\n",
       "      <td>All_healthy/Cashew_healthy/healthy1003_.jpg</td>\n",
       "      <td>All_healthy_Cashew_healthy</td>\n",
       "    </tr>\n",
       "    <tr>\n",
       "      <th>4</th>\n",
       "      <td>All_healthy/Cashew_healthy/healthy1004_.jpg</td>\n",
       "      <td>All_healthy_Cashew_healthy</td>\n",
       "    </tr>\n",
       "    <tr>\n",
       "      <th>...</th>\n",
       "      <td>...</td>\n",
       "      <td>...</td>\n",
       "    </tr>\n",
       "    <tr>\n",
       "      <th>25121</th>\n",
       "      <td>diseased/Tomato_verticulium wilt/verticulium w...</td>\n",
       "      <td>diseased_Tomato_verticulium wilt</td>\n",
       "    </tr>\n",
       "    <tr>\n",
       "      <th>25122</th>\n",
       "      <td>diseased/Tomato_verticulium wilt/verticulium w...</td>\n",
       "      <td>diseased_Tomato_verticulium wilt</td>\n",
       "    </tr>\n",
       "    <tr>\n",
       "      <th>25123</th>\n",
       "      <td>diseased/Tomato_verticulium wilt/verticulium w...</td>\n",
       "      <td>diseased_Tomato_verticulium wilt</td>\n",
       "    </tr>\n",
       "    <tr>\n",
       "      <th>25124</th>\n",
       "      <td>diseased/Tomato_verticulium wilt/verticulium w...</td>\n",
       "      <td>diseased_Tomato_verticulium wilt</td>\n",
       "    </tr>\n",
       "    <tr>\n",
       "      <th>25125</th>\n",
       "      <td>diseased/Tomato_verticulium wilt/verticulium w...</td>\n",
       "      <td>diseased_Tomato_verticulium wilt</td>\n",
       "    </tr>\n",
       "  </tbody>\n",
       "</table>\n",
       "<p>25126 rows × 2 columns</p>\n",
       "</div>"
      ],
      "text/plain": [
       "                                                filename  \\\n",
       "0            All_healthy/Cashew_healthy/healthy1000_.jpg   \n",
       "1            All_healthy/Cashew_healthy/healthy1001_.jpg   \n",
       "2            All_healthy/Cashew_healthy/healthy1002_.jpg   \n",
       "3            All_healthy/Cashew_healthy/healthy1003_.jpg   \n",
       "4            All_healthy/Cashew_healthy/healthy1004_.jpg   \n",
       "...                                                  ...   \n",
       "25121  diseased/Tomato_verticulium wilt/verticulium w...   \n",
       "25122  diseased/Tomato_verticulium wilt/verticulium w...   \n",
       "25123  diseased/Tomato_verticulium wilt/verticulium w...   \n",
       "25124  diseased/Tomato_verticulium wilt/verticulium w...   \n",
       "25125  diseased/Tomato_verticulium wilt/verticulium w...   \n",
       "\n",
       "                                  label  \n",
       "0            All_healthy_Cashew_healthy  \n",
       "1            All_healthy_Cashew_healthy  \n",
       "2            All_healthy_Cashew_healthy  \n",
       "3            All_healthy_Cashew_healthy  \n",
       "4            All_healthy_Cashew_healthy  \n",
       "...                                 ...  \n",
       "25121  diseased_Tomato_verticulium wilt  \n",
       "25122  diseased_Tomato_verticulium wilt  \n",
       "25123  diseased_Tomato_verticulium wilt  \n",
       "25124  diseased_Tomato_verticulium wilt  \n",
       "25125  diseased_Tomato_verticulium wilt  \n",
       "\n",
       "[25126 rows x 2 columns]"
      ]
     },
     "execution_count": 50,
     "metadata": {},
     "output_type": "execute_result"
    }
   ],
   "source": [
    "data"
   ]
  },
  {
   "cell_type": "code",
   "execution_count": 51,
   "id": "123103bf",
   "metadata": {},
   "outputs": [],
   "source": [
    "from sklearn.model_selection import train_test_split\n",
    "\n",
    "# Make sure paths are consistent\n",
    "data['filename'] = data['filename'].apply(lambda x: x.replace(\"\\\\\", \"/\"))\n",
    "\n",
    "# Split into train (80%) and test (20%)\n",
    "train_df, test_df = train_test_split(data, test_size=0.2, stratify=data['label'], random_state=42)\n"
   ]
  },
  {
   "cell_type": "code",
   "execution_count": 52,
   "id": "62d7658a",
   "metadata": {},
   "outputs": [
    {
     "name": "stdout",
     "output_type": "stream",
     "text": [
      "Found 16080 validated image filenames belonging to 22 classes.\n",
      "Found 4020 validated image filenames belonging to 22 classes.\n",
      "Found 5026 validated image filenames belonging to 22 classes.\n"
     ]
    }
   ],
   "source": [
    "from tensorflow.keras.preprocessing.image import ImageDataGenerator\n",
    "\n",
    "IMG_SIZE = (224, 224)\n",
    "BATCH_SIZE = 32\n",
    "\n",
    "# Create data generators\n",
    "datagen = ImageDataGenerator(rescale=1./255, validation_split=0.2)\n",
    "\n",
    "train_gen = datagen.flow_from_dataframe(\n",
    "    dataframe=train_df,\n",
    "    x_col='filename',\n",
    "    y_col='label',\n",
    "    target_size=IMG_SIZE,\n",
    "    batch_size=BATCH_SIZE,\n",
    "    class_mode='categorical',\n",
    "    subset='training',\n",
    "    shuffle=True\n",
    ")\n",
    "\n",
    "val_gen = datagen.flow_from_dataframe(\n",
    "    dataframe=train_df,\n",
    "    x_col='filename',\n",
    "    y_col='label',\n",
    "    target_size=IMG_SIZE,\n",
    "    batch_size=BATCH_SIZE,\n",
    "    class_mode='categorical',\n",
    "    subset='validation',\n",
    "    shuffle=True\n",
    ")\n",
    "\n",
    "test_gen = datagen.flow_from_dataframe(\n",
    "    dataframe=test_df,\n",
    "    x_col='filename',\n",
    "    y_col='label',\n",
    "    target_size=IMG_SIZE,\n",
    "    batch_size=BATCH_SIZE,\n",
    "    class_mode='categorical',\n",
    "    shuffle=False\n",
    ")\n"
   ]
  },
  {
   "cell_type": "code",
   "execution_count": 53,
   "id": "6e6dd173",
   "metadata": {},
   "outputs": [],
   "source": [
    "from tensorflow.keras.applications import MobileNetV2\n",
    "from tensorflow.keras.models import Model\n",
    "from tensorflow.keras.layers import Dense, GlobalAveragePooling2D, Dropout\n",
    "from tensorflow.keras.optimizers import Adam\n",
    "\n",
    "IMG_SIZE = (224, 224)\n",
    "BATCH_SIZE = 32\n",
    "\n",
    "# Load base model\n",
    "base_model = MobileNetV2(input_shape=IMG_SIZE + (3,), include_top=False, weights='imagenet')\n",
    "base_model.trainable = False  # Freeze base model\n",
    "\n",
    "# Add custom layers\n",
    "x = base_model.output\n",
    "x = GlobalAveragePooling2D()(x)\n",
    "x = Dropout(0.3)(x)\n",
    "\n",
    "num_classes = len(train_gen.class_indices)\n",
    "output = Dense(num_classes, activation='softmax')(x)\n",
    "\n",
    "model = Model(inputs=base_model.input, outputs=output)\n"
   ]
  },
  {
   "cell_type": "code",
   "execution_count": 54,
   "id": "984ba00f",
   "metadata": {},
   "outputs": [],
   "source": [
    "model.compile(optimizer=Adam(learning_rate=1e-4),\n",
    "              loss='categorical_crossentropy',\n",
    "              metrics=['accuracy'])\n"
   ]
  },
  {
   "cell_type": "code",
   "execution_count": 55,
   "id": "01f0367c",
   "metadata": {},
   "outputs": [
    {
     "name": "stderr",
     "output_type": "stream",
     "text": [
      "c:\\Users\\Public\\one\\Lib\\site-packages\\keras\\src\\trainers\\data_adapters\\py_dataset_adapter.py:121: UserWarning: Your `PyDataset` class should call `super().__init__(**kwargs)` in its constructor. `**kwargs` can include `workers`, `use_multiprocessing`, `max_queue_size`. Do not pass these arguments to `fit()`, as they will be ignored.\n",
      "  self._warn_if_super_not_called()\n"
     ]
    },
    {
     "name": "stdout",
     "output_type": "stream",
     "text": [
      "Epoch 1/10\n",
      "\u001b[1m503/503\u001b[0m \u001b[32m━━━━━━━━━━━━━━━━━━━━\u001b[0m\u001b[37m\u001b[0m \u001b[1m496s\u001b[0m 973ms/step - accuracy: 0.1953 - loss: 2.8228 - val_accuracy: 0.5983 - val_loss: 1.4094\n",
      "Epoch 2/10\n",
      "\u001b[1m503/503\u001b[0m \u001b[32m━━━━━━━━━━━━━━━━━━━━\u001b[0m\u001b[37m\u001b[0m \u001b[1m391s\u001b[0m 777ms/step - accuracy: 0.5514 - loss: 1.4071 - val_accuracy: 0.6831 - val_loss: 1.0370\n",
      "Epoch 3/10\n",
      "\u001b[1m503/503\u001b[0m \u001b[32m━━━━━━━━━━━━━━━━━━━━\u001b[0m\u001b[37m\u001b[0m \u001b[1m396s\u001b[0m 787ms/step - accuracy: 0.6509 - loss: 1.0856 - val_accuracy: 0.7075 - val_loss: 0.8944\n",
      "Epoch 4/10\n",
      "\u001b[1m503/503\u001b[0m \u001b[32m━━━━━━━━━━━━━━━━━━━━\u001b[0m\u001b[37m\u001b[0m \u001b[1m407s\u001b[0m 810ms/step - accuracy: 0.6973 - loss: 0.9258 - val_accuracy: 0.7294 - val_loss: 0.8127\n",
      "Epoch 5/10\n",
      "\u001b[1m503/503\u001b[0m \u001b[32m━━━━━━━━━━━━━━━━━━━━\u001b[0m\u001b[37m\u001b[0m \u001b[1m392s\u001b[0m 779ms/step - accuracy: 0.7123 - loss: 0.8362 - val_accuracy: 0.7386 - val_loss: 0.7685\n",
      "Epoch 6/10\n",
      "\u001b[1m503/503\u001b[0m \u001b[32m━━━━━━━━━━━━━━━━━━━━\u001b[0m\u001b[37m\u001b[0m \u001b[1m383s\u001b[0m 761ms/step - accuracy: 0.7308 - loss: 0.7854 - val_accuracy: 0.7463 - val_loss: 0.7293\n",
      "Epoch 7/10\n",
      "\u001b[1m503/503\u001b[0m \u001b[32m━━━━━━━━━━━━━━━━━━━━\u001b[0m\u001b[37m\u001b[0m \u001b[1m382s\u001b[0m 760ms/step - accuracy: 0.7453 - loss: 0.7451 - val_accuracy: 0.7478 - val_loss: 0.7033\n",
      "Epoch 8/10\n",
      "\u001b[1m503/503\u001b[0m \u001b[32m━━━━━━━━━━━━━━━━━━━━\u001b[0m\u001b[37m\u001b[0m \u001b[1m379s\u001b[0m 754ms/step - accuracy: 0.7554 - loss: 0.7045 - val_accuracy: 0.7560 - val_loss: 0.6822\n",
      "Epoch 9/10\n",
      "\u001b[1m503/503\u001b[0m \u001b[32m━━━━━━━━━━━━━━━━━━━━\u001b[0m\u001b[37m\u001b[0m \u001b[1m374s\u001b[0m 743ms/step - accuracy: 0.7668 - loss: 0.6723 - val_accuracy: 0.7617 - val_loss: 0.6644\n",
      "Epoch 10/10\n",
      "\u001b[1m503/503\u001b[0m \u001b[32m━━━━━━━━━━━━━━━━━━━━\u001b[0m\u001b[37m\u001b[0m \u001b[1m373s\u001b[0m 741ms/step - accuracy: 0.7709 - loss: 0.6509 - val_accuracy: 0.7672 - val_loss: 0.6496\n"
     ]
    }
   ],
   "source": [
    "history = model.fit(\n",
    "    train_gen,\n",
    "    validation_data=val_gen,\n",
    "    epochs=10\n",
    ")\n",
    "\n"
   ]
  },
  {
   "cell_type": "code",
   "execution_count": 56,
   "id": "71624961",
   "metadata": {},
   "outputs": [
    {
     "name": "stdout",
     "output_type": "stream",
     "text": [
      "\u001b[1m126/126\u001b[0m \u001b[32m━━━━━━━━━━━━━━━━━━━━\u001b[0m\u001b[37m\u001b[0m \u001b[1m76s\u001b[0m 601ms/step - accuracy: 0.7694 - loss: 0.6497\n"
     ]
    },
    {
     "name": "stderr",
     "output_type": "stream",
     "text": [
      "WARNING:absl:You are saving your model as an HDF5 file via `model.save()` or `keras.saving.save_model(model)`. This file format is considered legacy. We recommend using instead the native Keras format, e.g. `model.save('my_model.keras')` or `keras.saving.save_model(model, 'my_model.keras')`. \n"
     ]
    },
    {
     "name": "stdout",
     "output_type": "stream",
     "text": [
      "Validation accuracy: 0.77\n"
     ]
    }
   ],
   "source": [
    "# Evaluate\n",
    "val_loss, val_acc = model.evaluate(val_gen)\n",
    "print(f'Validation accuracy: {val_acc:.2f}')\n",
    "\n",
    "# Save model\n",
    "model.save('plant_disease_model.h5')\n",
    "\n",
    "\n",
    "\n"
   ]
  },
  {
   "cell_type": "code",
   "execution_count": 61,
   "id": "cfb49138",
   "metadata": {},
   "outputs": [
    {
     "name": "stderr",
     "output_type": "stream",
     "text": [
      "WARNING:absl:Compiled the loaded model, but the compiled metrics have yet to be built. `model.compile_metrics` will be empty until you train or evaluate the model.\n"
     ]
    }
   ],
   "source": [
    "from tensorflow.keras.models import load_model\n",
    "\n",
    "model = load_model(\"plant_disease_model.h5\")  # Path to your trained model\n"
   ]
  },
  {
   "cell_type": "code",
   "execution_count": 62,
   "id": "cf77f485",
   "metadata": {},
   "outputs": [],
   "source": [
    "from tensorflow.keras.preprocessing import image\n",
    "import numpy as np\n",
    "\n",
    "IMG_SIZE = (224, 224)  # Same as used during training\n",
    "\n",
    "def preprocess_image(img_path):\n",
    "    img = image.load_img(img_path, target_size=IMG_SIZE)\n",
    "    img_array = image.img_to_array(img)\n",
    "    img_array = img_array / 255.0  # Normalize pixel values\n",
    "    img_array = np.expand_dims(img_array, axis=0)  # Add batch dimension\n",
    "    return img_array\n"
   ]
  },
  {
   "cell_type": "code",
   "execution_count": 63,
   "id": "2e698182",
   "metadata": {},
   "outputs": [
    {
     "name": "stdout",
     "output_type": "stream",
     "text": [
      "\u001b[1m1/1\u001b[0m \u001b[32m━━━━━━━━━━━━━━━━━━━━\u001b[0m\u001b[37m\u001b[0m \u001b[1m2s\u001b[0m 2s/step\n"
     ]
    }
   ],
   "source": [
    "img_path = \"predict.png\"  # Replace with your test image path\n",
    "img_array = preprocess_image(img_path)\n",
    "\n",
    "pred = model.predict(img_array)\n",
    "predicted_index = np.argmax(pred[0])\n",
    "confidence = np.max(pred[0])\n"
   ]
  },
  {
   "cell_type": "code",
   "execution_count": 64,
   "id": "cca0d001",
   "metadata": {},
   "outputs": [
    {
     "name": "stdout",
     "output_type": "stream",
     "text": [
      "Prediction: diseased_Cashew_anthracnose (Confidence: 0.73)\n"
     ]
    }
   ],
   "source": [
    "labels_map = {v: k for k, v in train_gen.class_indices.items()}\n",
    "predicted_label = labels_map[predicted_index]\n",
    "\n",
    "print(f\"Prediction: {predicted_label} (Confidence: {confidence:.2f})\")\n"
   ]
  },
  {
   "cell_type": "code",
   "execution_count": null,
   "id": "75a96d56",
   "metadata": {},
   "outputs": [
    {
     "name": "stdout",
     "output_type": "stream",
     "text": [
      "Overwriting app.py\n"
     ]
    }
   ],
   "source": [
    "%%writefile app.py\n",
    "import os\n",
    "from flask import Flask, render_template, request\n",
    "from tensorflow.keras.models import load_model\n",
    "from tensorflow.keras.preprocessing import image\n",
    "import numpy as np\n",
    "\n",
    "app = Flask(__name__)\n",
    "app.config['UPLOAD_FOLDER'] = 'static/uploads'\n",
    "\n",
    "model = load_model('plant_disease_model.h5')  # Load your trained model\n",
    "IMG_SIZE = (224, 224)  # adjust based on your model input\n",
    "\n",
    "def process_image(img_path):\n",
    "    img = image.load_img(img_path, target_size=IMG_SIZE)\n",
    "    img_array = image.img_to_array(img) / 255.0\n",
    "    img_array = np.expand_dims(img_array, axis=0)\n",
    "    return img_array\n",
    "\n",
    "@app.route('/', methods=['GET', 'POST'])  # ✅ Matches form method and route\n",
    "def index():\n",
    "    prediction = None\n",
    "    image_url = None\n",
    "\n",
    "    if request.method == 'POST':\n",
    "        img_file = request.files['image']\n",
    "        if img_file:\n",
    "            path = os.path.join(app.config['UPLOAD_FOLDER'], img_file.filename)\n",
    "            img_file.save(path)\n",
    "\n",
    "            img_data = process_image(path)\n",
    "            pred = model.predict(img_data)\n",
    "            label = np.argmax(pred)  # adjust based on your label format\n",
    "\n",
    "            prediction = f\"Predicted class: {label}\"\n",
    "            image_url = path\n",
    "\n",
    "    return render_template('index.html', prediction=prediction, image_url=image_url)\n",
    "\n",
    "if __name__ == '__main__':\n",
    "    app.run(debug=True)\n"
   ]
  },
  {
   "cell_type": "code",
   "execution_count": null,
   "id": "fce046f9",
   "metadata": {},
   "outputs": [],
   "source": []
  }
 ],
 "metadata": {
  "kernelspec": {
   "display_name": "base",
   "language": "python",
   "name": "python3"
  },
  "language_info": {
   "codemirror_mode": {
    "name": "ipython",
    "version": 3
   },
   "file_extension": ".py",
   "mimetype": "text/x-python",
   "name": "python",
   "nbconvert_exporter": "python",
   "pygments_lexer": "ipython3",
   "version": "3.12.7"
  }
 },
 "nbformat": 4,
 "nbformat_minor": 5
}
